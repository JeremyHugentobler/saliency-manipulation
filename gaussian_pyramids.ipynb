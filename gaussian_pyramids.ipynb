{
 "cells": [
  {
   "cell_type": "code",
   "execution_count": 1,
   "metadata": {},
   "outputs": [],
   "source": [
    "import numpy as np\n",
    "import matplotlib.pyplot as plt\n",
    "\n",
    "from skimage.transform import pyramid_gaussian\n",
    "from skimage import data\n"
   ]
  },
  {
   "cell_type": "code",
   "execution_count": null,
   "metadata": {},
   "outputs": [],
   "source": [
    "import numpy as np\n",
    "import matplotlib.pyplot as plt\n",
    "import cv2\n",
    "from skimage import data\n",
    "from src.optimization import get_pyramids, reconstruct\n",
    "\n",
    "src = cv2.imread(\"data/coco_output/000000397133.jpg\")\n"
   ]
  },
  {
   "cell_type": "code",
   "execution_count": 16,
   "metadata": {},
   "outputs": [
    {
     "name": "stdout",
     "output_type": "stream",
     "text": [
      "Reconstructed image difference: 0\n"
     ]
    }
   ],
   "source": [
    "gaussian, laplacian = get_pyramids(src, 3)\n",
    "\n",
    "reconstructed = reconstruct(gaussian[2], laplacian[1])\n",
    "\n",
    "print(\"Reconstructed image difference:\",cv2.subtract(gaussian[1], reconstructed).sum())\n",
    "\n"
   ]
  }
 ],
 "metadata": {
  "kernelspec": {
   "display_name": "CP",
   "language": "python",
   "name": "python3"
  },
  "language_info": {
   "codemirror_mode": {
    "name": "ipython",
    "version": 3
   },
   "file_extension": ".py",
   "mimetype": "text/x-python",
   "name": "python",
   "nbconvert_exporter": "python",
   "pygments_lexer": "ipython3",
   "version": "3.8.20"
  }
 },
 "nbformat": 4,
 "nbformat_minor": 2
}
